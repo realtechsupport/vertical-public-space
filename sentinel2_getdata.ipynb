{
  "nbformat": 4,
  "nbformat_minor": 0,
  "metadata": {
    "colab": {
      "name": "sentinel2_getdata.ipynb",
      "provenance": [],
      "collapsed_sections": []
    },
    "kernelspec": {
      "name": "python3",
      "display_name": "Python 3"
    }
  },
  "cells": [
    {
      "cell_type": "code",
      "metadata": {
        "id": "_iq1kGs9NA3m"
      },
      "source": [
        "# SENTINEL2_GETDATA\n",
        "# Get sSentinel2 data products based on an area of interest, cloudcover and date interval\n",
        "# The earliest or the latest within a set interval, depending on your preferences\n",
        "# (see below)\n",
        "# Result is saved to a designated directory\n",
        "# RTS, Feb 2021\n",
        "#-------------------------------------------------------------------------------\n",
        "# Preparations:\n",
        "# 1\n",
        "# Create an account with Copernicus Open Access Hub (https://scihub.copernicus.eu/dhus)\n",
        "# You will need a login and pswd to access sentinel2 files\n",
        "# 2\n",
        "# Generate a geojson file for area of interest (https://geojson.io/)\n",
        "# Save the file as somearea.geojson and place a copy on into your data directory (see below)\n",
        "\n",
        "# ESA quotas:\n",
        "# https://forum.step.esa.int/t/esa-copernicus-data-access-long-term-archive-and-its-drawbacks/15394/14\n",
        "# Please note that the maximum number of products that a single user can request on SciHub is 1 every 30 minutes. \n",
        "# An additional quota limit is applied to users of the APIHub of maximum 20 products every 12 hours. "
      ],
      "execution_count": null,
      "outputs": []
    },
    {
      "cell_type": "code",
      "metadata": {
        "id": "V6XgMNN5WiW_",
        "colab": {
          "base_uri": "https://localhost:8080/",
          "height": 34
        },
        "outputId": "23538275-e59c-4a28-da64-047783f2c2b0"
      },
      "source": [
        "import sys\n",
        "#clear all variables (from last session)\n",
        "sys.modules[__name__].__dict__.clear()\n",
        "import os, sys, time, random, itertools, shutil\n",
        "\n",
        "from google.colab import drive\n",
        "drive.mount('/content/drive')\n",
        "\n",
        "from IPython.core.display import display, HTML\n",
        "display(HTML(\"<style>.container { width:100% !important; }</style>\"))"
      ],
      "execution_count": null,
      "outputs": [
        {
          "output_type": "stream",
          "text": [
            "Mounted at /content/drive\n"
          ],
          "name": "stdout"
        },
        {
          "output_type": "display_data",
          "data": {
            "text/html": [
              "<style>.container { width:100% !important; }</style>"
            ],
            "text/plain": [
              "<IPython.core.display.HTML object>"
            ]
          },
          "metadata": {
            "tags": []
          }
        }
      ]
    },
    {
      "cell_type": "code",
      "metadata": {
        "id": "V1LTCcmP31aM"
      },
      "source": [
        "#all the imports here\n",
        "!pip install sentinelsat --upgrade\n",
        "print('\\nFINISHED installing sentinelsat....')"
      ],
      "execution_count": null,
      "outputs": []
    },
    {
      "cell_type": "code",
      "metadata": {
        "id": "rFMU20yHXAb2"
      },
      "source": [
        "# variables specific to your CoLabsetup ----------------------------------------\n",
        "start = '/content/drive/MyDrive/your directory/'\n",
        "datapath = start + 'data/'\n",
        "searchpath = datapath + 'sentinel/'\n",
        "archivepath = datapath + 'archive/'\n",
        "\n",
        "# make the directories if they do not exist ------------------------------------\n",
        "all_dirs = [datapath, searchpath, archivepath]\n",
        "\n",
        "for dir in all_dirs:\n",
        "  if (not os.path.exists(dir)):\n",
        "    os.makedirs(dir)\n",
        "    print('Created this directory: ', dir)\n",
        "  else:\n",
        "    print('This directory already exists: ', dir)\n",
        "\n",
        "print('\\nFINISHED setting directories....')"
      ],
      "execution_count": null,
      "outputs": []
    },
    {
      "cell_type": "code",
      "metadata": {
        "id": "vXyxvDpwPfA0"
      },
      "source": [
        "# Sentinel sepcific paramenters, login, password and geojson file\n",
        "# this setup assumes you have a valid geojson file in the .../data directory\n",
        "\n",
        "user =   'yourlogin'\n",
        "pswd =   'yourpassword'\n",
        "\n",
        "#set the max acceptable cloud cover\n",
        "maxcover = 20\n",
        "#set the number of days or months to search into the past (from the present date)\n",
        "ndays = 12\n",
        "nmonths = 1\n",
        "\n",
        "#set the desired area via the geojson file\n",
        "map = 'manhattan.geojson'         #'your.geojson'\n",
        "geojsonpath = datapath\n",
        "\n",
        "print('Sentinel search parameters are set....')"
      ],
      "execution_count": null,
      "outputs": []
    },
    {
      "cell_type": "code",
      "metadata": {
        "id": "gRmCJXir4f36"
      },
      "source": [
        "from sentinelsat import SentinelAPI, read_geojson, geojson_to_wkt\n",
        "from datetime import date\n",
        "\n",
        "api = SentinelAPI(user, pswd, 'https://scihub.copernicus.eu/dhus')\n",
        "\n",
        "# start is length of days or months to look into the past.\n",
        "# the search will begin there.\n",
        "\n",
        "#start = 'NOW-' + str(ndays) + 'DAYS'\n",
        "start = 'NOW-' + str(nmonths) + 'MONTHS'\n",
        "\n",
        "maxitems = 1\n",
        "end = 'NOW'\n",
        "platform = 'Sentinel-2'\n",
        "product = 'S2MSI1C'\n",
        "footprint = geojson_to_wkt(read_geojson(geojsonpath + map))\n",
        "\n",
        "print('GEOJSON MAP: ', map)\n",
        "print('TIMEFRAME: ', start, end)\n",
        "print('MAX CLOUD COVER: ', maxcover)\n",
        "print('PLATFORM, PRODUCT: ', platform, product)\n",
        "\n",
        "try:\n",
        "  products = api.query(footprint, date = (start, end), platformname = platform, producttype = product, cloudcoverpercentage = (0, maxcover))\n",
        "  products_df = api.to_dataframe(products)\n",
        "  # ascending=[False] > newest item; ascending=[True] > oldest item;\n",
        "  products_df_sorted = products_df.sort_values(['ingestiondate'], ascending=[True])  \n",
        "  # usually only 1 (large files, upto 1GB )         \n",
        "  print('\\nNumber of items being downloaded: ', maxitems)\n",
        "  products_df_sorted = products_df_sorted.head(maxitems)                                       \n",
        "  print('\\nGetting this/these item/s: ', products_df_sorted)\n",
        "  api.download_all(products_df_sorted.index, directory_path = searchpath)\n",
        "  print('\\nDownload attempt complete ...  check sentinel folder to confirm data is ok')\n",
        "\n",
        "# catch all exceptions\n",
        "except Exception as ex:\n",
        "  template = \"\\nAn exception of type {0} occurred. This is the reported error:\\n{1!r}\"\n",
        "  message = template.format(type(ex).__name__, ex.args)\n",
        "  print (message) \n",
        "  print('\\n.. Something went wrong ... see message below... other possible error sources: geojson file, ndays, nmonths and cloud cover setting ...')\n"
      ],
      "execution_count": null,
      "outputs": []
    }
  ]
}